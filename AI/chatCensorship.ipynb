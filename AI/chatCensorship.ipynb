{
 "cells": [
  {
   "cell_type": "markdown",
   "id": "98e1882a",
   "metadata": {},
   "source": [
    "# Chat Toxicity"
   ]
  },
  {
   "cell_type": "markdown",
   "id": "1b2dfede",
   "metadata": {},
   "source": [
    "### Libraries"
   ]
  },
  {
   "cell_type": "code",
   "execution_count": null,
   "id": "303f78de",
   "metadata": {},
   "outputs": [],
   "source": [
    "# basic libraries\n",
    "import numpy as np\n",
    "import pandas as pd\n",
    "import os\n",
    "# For plots\n",
    "from matplotlib import pyplot as plt\n",
    "from tensorflow.data import Dataset,AUTOTUNE\n",
    "from tensorflow.keras.layers import TextVectorization"
   ]
  },
  {
   "cell_type": "markdown",
   "id": "eb72dabc",
   "metadata": {},
   "source": [
    "### Config"
   ]
  },
  {
   "cell_type": "code",
   "execution_count": null,
   "id": "47c5760d",
   "metadata": {},
   "outputs": [],
   "source": [
    "# 200000 token limit and 2000 sentence limit\n",
    "TokenLimit=100000\n",
    "SentenceLimit=1700\n",
    "# Dataset Variables\n",
    "ShuffleParameter=100000\n",
    "BatchSize=16\n",
    "# DatasetPrefetch=AUTOTUNE\n",
    "# Creating Sequential model\n",
    "LSTM_NEURONS=32\n",
    "Dense1Neurons=128\n",
    "Dense2Neurons=256\n",
    "Dense3Neurons=128\n",
    "OutputLayer=6"
   ]
  },
  {
   "cell_type": "markdown",
   "id": "e6c9394a",
   "metadata": {},
   "source": [
    "### Importing dataset"
   ]
  },
  {
   "cell_type": "code",
   "execution_count": null,
   "id": "95431d06",
   "metadata": {},
   "outputs": [],
   "source": [
    "df=pd.read_csv('train.csv')"
   ]
  },
  {
   "cell_type": "code",
   "execution_count": null,
   "id": "4dd61a5f",
   "metadata": {
    "scrolled": true
   },
   "outputs": [],
   "source": [
    "df.head()"
   ]
  },
  {
   "cell_type": "markdown",
   "id": "cc5a37ba",
   "metadata": {},
   "source": [
    "### Looking into the data"
   ]
  },
  {
   "cell_type": "code",
   "execution_count": null,
   "id": "6ab3c833",
   "metadata": {},
   "outputs": [],
   "source": [
    "# df[df['toxic']==1]"
   ]
  },
  {
   "cell_type": "code",
   "execution_count": null,
   "id": "850e76ba",
   "metadata": {},
   "outputs": [],
   "source": [
    "df.shape"
   ]
  },
  {
   "cell_type": "code",
   "execution_count": null,
   "id": "bf00b68b",
   "metadata": {},
   "outputs": [],
   "source": [
    "df.columns"
   ]
  },
  {
   "cell_type": "code",
   "execution_count": null,
   "id": "2c558daf",
   "metadata": {},
   "outputs": [],
   "source": [
    "df.tail()"
   ]
  },
  {
   "cell_type": "markdown",
   "id": "fbbad752",
   "metadata": {},
   "source": [
    "### Preprocessing The Data"
   ]
  },
  {
   "cell_type": "markdown",
   "id": "3269fa55",
   "metadata": {},
   "source": [
    "#### Spliting Data and renaming a column"
   ]
  },
  {
   "cell_type": "code",
   "execution_count": null,
   "id": "a623b6ef",
   "metadata": {},
   "outputs": [],
   "source": [
    "df.rename(columns = {'obscene':'sexually_explicit'}, inplace = True) "
   ]
  },
  {
   "cell_type": "code",
   "execution_count": null,
   "id": "5f9fb29f",
   "metadata": {},
   "outputs": [],
   "source": [
    "xData=df['comment_text']\n",
    "yData=df[df.columns[2:]]"
   ]
  },
  {
   "cell_type": "code",
   "execution_count": null,
   "id": "b96d7b66",
   "metadata": {},
   "outputs": [],
   "source": [
    "yData.head()"
   ]
  },
  {
   "cell_type": "markdown",
   "id": "255b518a",
   "metadata": {},
   "source": [
    "#### Text Tokenization"
   ]
  },
  {
   "cell_type": "code",
   "execution_count": null,
   "id": "e90a1038",
   "metadata": {},
   "outputs": [],
   "source": [
    "vectorize=TextVectorization(max_tokens=TokenLimit,\n",
    "                            output_mode='int',\n",
    "                            output_sequence_length=SentenceLimit)"
   ]
  },
  {
   "cell_type": "code",
   "execution_count": null,
   "id": "1ccb793f",
   "metadata": {},
   "outputs": [],
   "source": [
    "vectorize.adapt(xData)"
   ]
  },
  {
   "cell_type": "code",
   "execution_count": null,
   "id": "0e6a23c4",
   "metadata": {},
   "outputs": [],
   "source": [
    "vectorizedData=vectorize(xData)"
   ]
  },
  {
   "cell_type": "markdown",
   "id": "33ca524c",
   "metadata": {},
   "source": [
    "#### Creating Dataset"
   ]
  },
  {
   "cell_type": "code",
   "execution_count": null,
   "id": "7f02a7ca",
   "metadata": {},
   "outputs": [],
   "source": [
    "# Mapping not required as its alreadt vectorized\n",
    "dataset = Dataset.from_tensor_slices((vectorizedData, yData))\n",
    "\n",
    "# Caching data on each epoch for faster training\n",
    "dataset = dataset.cache()\n",
    "\n",
    "# Shuffling data to avoid biased results -> Need to call After caching\n",
    "dataset = dataset.shuffle(ShuffleParameter)\n",
    "\n",
    "# Creating multiple batches for training\n",
    "dataset = dataset.batch(BatchSize)\n",
    "\n",
    "# Fetching batches and keeping them ready for the GPU to train\n",
    "# Hastens the process\n",
    "dataset = dataset.prefetch(AUTOTUNE)"
   ]
  },
  {
   "cell_type": "markdown",
   "id": "4d331961",
   "metadata": {},
   "source": [
    "#### Creating Test set , training set and validation set"
   ]
  },
  {
   "cell_type": "code",
   "execution_count": null,
   "id": "7a6887fa",
   "metadata": {},
   "outputs": [],
   "source": [
    "trainSize=int((len(dataset)*70)/100)\n",
    "testSize=int((len(dataset)*20)/100)\n",
    "valSize=int((len(dataset)*10)/100)"
   ]
  },
  {
   "cell_type": "code",
   "execution_count": null,
   "id": "22fe1258",
   "metadata": {},
   "outputs": [],
   "source": [
    "trainData=dataset.take(trainSize)\n",
    "testData=dataset.skip(trainSize).take(testSize)\n",
    "valData=dataset.skip(trainSize+testSize).take(valSize)"
   ]
  },
  {
   "cell_type": "markdown",
   "id": "2251c174",
   "metadata": {},
   "source": [
    "### Creating Model"
   ]
  },
  {
   "cell_type": "code",
   "execution_count": null,
   "id": "05bb11d6",
   "metadata": {},
   "outputs": [],
   "source": [
    "from tensorflow.keras.models import Sequential\n",
    "from tensorflow.keras.layers import LSTM, Dropout, Bidirectional, Dense, Embedding"
   ]
  },
  {
   "cell_type": "code",
   "execution_count": null,
   "id": "b6fd921e",
   "metadata": {},
   "outputs": [],
   "source": [
    "model = Sequential([\n",
    "    Embedding(TokenLimit+1, 32),\n",
    "    Bidirectional(LSTM(LSTM_NEURONS, activation='tanh')),\n",
    "    Dense(Dense1Neurons, activation='relu'),\n",
    "    Dense(Dense2Neurons, activation='relu'),\n",
    "    Dense(Dense3Neurons, activation='relu'),\n",
    "    Dense(OutputLayer, activation='sigmoid')\n",
    "])"
   ]
  },
  {
   "cell_type": "markdown",
   "id": "7ed694d5",
   "metadata": {},
   "source": [
    "#### Training the model"
   ]
  },
  {
   "cell_type": "code",
   "execution_count": null,
   "id": "cadadf64",
   "metadata": {},
   "outputs": [],
   "source": [
    "model.compile(loss='BinaryCrossentropy', optimizer='Adam')"
   ]
  },
  {
   "cell_type": "code",
   "execution_count": null,
   "id": "1fdd98b8",
   "metadata": {},
   "outputs": [],
   "source": [
    "history = model.fit(trainData, epochs=3, validation_data=valData)"
   ]
  },
  {
   "cell_type": "code",
   "execution_count": null,
   "id": "c5cac666",
   "metadata": {},
   "outputs": [],
   "source": [
    "model.save(\"coolModel.h5\")"
   ]
  },
  {
   "cell_type": "code",
   "execution_count": null,
   "id": "7c3f2f38",
   "metadata": {},
   "outputs": [],
   "source": [
    "import joblib\n",
    "joblib.dump(model,\"coolModel.pkl\",compress=9)"
   ]
  },
  {
   "cell_type": "code",
   "execution_count": null,
   "id": "5a6d5d09",
   "metadata": {},
   "outputs": [],
   "source": [
    "plt.figure(figsize=(8,5))\n",
    "pd.DataFrame(history.history).plot()\n",
    "plt.show()"
   ]
  },
  {
   "cell_type": "code",
   "execution_count": null,
   "id": "c0d583cb",
   "metadata": {},
   "outputs": [],
   "source": []
  },
  {
   "cell_type": "code",
   "execution_count": null,
   "id": "602c916a",
   "metadata": {},
   "outputs": [],
   "source": []
  }
 ],
 "metadata": {
  "kernelspec": {
   "display_name": "Python 3 (ipykernel)",
   "language": "python",
   "name": "python3"
  },
  "language_info": {
   "codemirror_mode": {
    "name": "ipython",
    "version": 3
   },
   "file_extension": ".py",
   "mimetype": "text/x-python",
   "name": "python",
   "nbconvert_exporter": "python",
   "pygments_lexer": "ipython3",
   "version": "3.9.13"
  }
 },
 "nbformat": 4,
 "nbformat_minor": 5
}
